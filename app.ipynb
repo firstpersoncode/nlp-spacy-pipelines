{
 "cells": [
  {
   "cell_type": "code",
   "execution_count": 9,
   "metadata": {},
   "outputs": [],
   "source": [
    "import spacy\n",
    "\n",
    "nlp = spacy.load(\"en_core_web_sm\")"
   ]
  },
  {
   "cell_type": "code",
   "execution_count": 10,
   "metadata": {},
   "outputs": [
    {
     "name": "stdout",
     "output_type": "stream",
     "text": [
      "['tok2vec', 'tagger', 'parser', 'attribute_ruler', 'lemmatizer', 'ner']\n"
     ]
    }
   ],
   "source": [
    "print(nlp.pipe_names)"
   ]
  },
  {
   "cell_type": "code",
   "execution_count": 11,
   "metadata": {},
   "outputs": [
    {
     "name": "stdout",
     "output_type": "stream",
     "text": [
      "Do | AUX | do\n",
      "you | PRON | you\n",
      "want | VERB | want\n",
      "to | PART | to\n",
      "learn | VERB | learn\n",
      "technology | NOUN | technology\n",
      "from | ADP | from\n",
      "me | PRON | I\n",
      "? | PUNCT | ?\n",
      "Check | VERB | check\n",
      "https://codebasics.io/?utm_source=pin-comment&utm_medium=yt&utm_campaign=pin-comment&utm_id=youtube | NUM | https://codebasics.io/?utm_source=pin-comment&utm_medium=yt&utm_campaign=pin-comment&utm_id=youtube\n",
      "for | ADP | for\n",
      "my | PRON | my\n",
      "affordable | ADJ | affordable\n",
      "video | NOUN | video\n",
      "courses | NOUN | course\n",
      ". | PUNCT | .\n"
     ]
    }
   ],
   "source": [
    "doc = nlp(\"Do you want to learn technology from me? Check https://codebasics.io/?utm_source=pin-comment&utm_medium=yt&utm_campaign=pin-comment&utm_id=youtube for my affordable video courses.\")\n",
    "\n",
    "for token in doc:\n",
    "    print(token, \"|\", token.pos_, \"|\", token.lemma_)"
   ]
  },
  {
   "cell_type": "code",
   "execution_count": 14,
   "metadata": {},
   "outputs": [
    {
     "name": "stdout",
     "output_type": "stream",
     "text": [
      "Tesla Inc | ORG\n",
      "$45 billion | MONEY\n"
     ]
    }
   ],
   "source": [
    "doc = nlp(\"Tesla Inc is going to acquire twitter for $45 billion\")\n",
    "\n",
    "for entity in doc.ents:\n",
    "    print(entity.text, \"|\", entity.label_)"
   ]
  }
 ],
 "metadata": {
  "kernelspec": {
   "display_name": "venv",
   "language": "python",
   "name": "python3"
  },
  "language_info": {
   "codemirror_mode": {
    "name": "ipython",
    "version": 3
   },
   "file_extension": ".py",
   "mimetype": "text/x-python",
   "name": "python",
   "nbconvert_exporter": "python",
   "pygments_lexer": "ipython3",
   "version": "3.11.7"
  }
 },
 "nbformat": 4,
 "nbformat_minor": 2
}
